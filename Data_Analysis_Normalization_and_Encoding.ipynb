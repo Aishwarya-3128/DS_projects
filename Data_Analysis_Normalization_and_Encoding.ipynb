{
 "cells": [
  {
   "cell_type": "markdown",
   "id": "6kdM0sRMPG-8",
   "metadata": {
    "id": "6kdM0sRMPG-8"
   },
   "source": [
    "**Define the necessary libraries**"
   ]
  },
  {
   "cell_type": "code",
   "execution_count": 1,
   "id": "ul_frjkCPS4O",
   "metadata": {
    "id": "ul_frjkCPS4O"
   },
   "outputs": [],
   "source": [
    "import pandas as pd\n",
    "import numpy as np \n",
    "import matplotlib.pyplot as plt \n",
    "import seaborn as sns \n",
    "from sklearn.preprocessing import LabelEncoder \n",
    "from sklearn.preprocessing import OrdinalEncoder\n",
    "from sklearn.preprocessing import StandardScaler, MinMaxScaler,RobustScaler, MaxAbsScaler, Normalizer \n",
    "from sklearn.model_selection import train_test_split \n",
    "from sklearn.linear_model import LinearRegression\n",
    "from sklearn import metrics \n",
    "import warnings \n",
    "warnings.filterwarnings(\"ignore\") "
   ]
  },
  {
   "cell_type": "markdown",
   "id": "1J_9Dqc4PdRT",
   "metadata": {
    "id": "1J_9Dqc4PdRT"
   },
   "source": [
    "**Load the dataset into the dataframe**"
   ]
  },
  {
   "cell_type": "code",
   "execution_count": 2,
   "id": "Ac90Gl5IPhP_",
   "metadata": {
    "id": "Ac90Gl5IPhP_"
   },
   "outputs": [
    {
     "data": {
      "text/html": [
       "<div>\n",
       "<style scoped>\n",
       "    .dataframe tbody tr th:only-of-type {\n",
       "        vertical-align: middle;\n",
       "    }\n",
       "\n",
       "    .dataframe tbody tr th {\n",
       "        vertical-align: top;\n",
       "    }\n",
       "\n",
       "    .dataframe thead th {\n",
       "        text-align: right;\n",
       "    }\n",
       "</style>\n",
       "<table border=\"1\" class=\"dataframe\">\n",
       "  <thead>\n",
       "    <tr style=\"text-align: right;\">\n",
       "      <th></th>\n",
       "      <th>Item_Identifier</th>\n",
       "      <th>Item_Weight</th>\n",
       "      <th>Item_Fat_Content</th>\n",
       "      <th>Item_Visibility</th>\n",
       "      <th>Item_Type</th>\n",
       "      <th>Item_MRP</th>\n",
       "      <th>Outlet_Identifier</th>\n",
       "      <th>Outlet_Establishment_Year</th>\n",
       "      <th>Outlet_Size</th>\n",
       "      <th>Outlet_Location_Type</th>\n",
       "      <th>Outlet_Type</th>\n",
       "      <th>Item_Outlet_Sales</th>\n",
       "    </tr>\n",
       "  </thead>\n",
       "  <tbody>\n",
       "    <tr>\n",
       "      <th>0</th>\n",
       "      <td>FDA15</td>\n",
       "      <td>9.30</td>\n",
       "      <td>Low Fat</td>\n",
       "      <td>0.016047</td>\n",
       "      <td>Dairy</td>\n",
       "      <td>249.8092</td>\n",
       "      <td>OUT049</td>\n",
       "      <td>1999</td>\n",
       "      <td>Medium</td>\n",
       "      <td>Tier 1</td>\n",
       "      <td>Supermarket Type1</td>\n",
       "      <td>3735.1380</td>\n",
       "    </tr>\n",
       "    <tr>\n",
       "      <th>1</th>\n",
       "      <td>DRC01</td>\n",
       "      <td>5.92</td>\n",
       "      <td>Regular</td>\n",
       "      <td>0.019278</td>\n",
       "      <td>Soft Drinks</td>\n",
       "      <td>48.2692</td>\n",
       "      <td>OUT018</td>\n",
       "      <td>2009</td>\n",
       "      <td>Medium</td>\n",
       "      <td>Tier 3</td>\n",
       "      <td>Supermarket Type2</td>\n",
       "      <td>443.4228</td>\n",
       "    </tr>\n",
       "    <tr>\n",
       "      <th>2</th>\n",
       "      <td>FDN15</td>\n",
       "      <td>17.50</td>\n",
       "      <td>Low Fat</td>\n",
       "      <td>0.016760</td>\n",
       "      <td>Meat</td>\n",
       "      <td>141.6180</td>\n",
       "      <td>OUT049</td>\n",
       "      <td>1999</td>\n",
       "      <td>Medium</td>\n",
       "      <td>Tier 1</td>\n",
       "      <td>Supermarket Type1</td>\n",
       "      <td>2097.2700</td>\n",
       "    </tr>\n",
       "    <tr>\n",
       "      <th>3</th>\n",
       "      <td>FDX07</td>\n",
       "      <td>19.20</td>\n",
       "      <td>Regular</td>\n",
       "      <td>0.000000</td>\n",
       "      <td>Fruits and Vegetables</td>\n",
       "      <td>182.0950</td>\n",
       "      <td>OUT010</td>\n",
       "      <td>1998</td>\n",
       "      <td>NaN</td>\n",
       "      <td>Tier 3</td>\n",
       "      <td>Grocery Store</td>\n",
       "      <td>732.3800</td>\n",
       "    </tr>\n",
       "    <tr>\n",
       "      <th>4</th>\n",
       "      <td>NCD19</td>\n",
       "      <td>8.93</td>\n",
       "      <td>Low Fat</td>\n",
       "      <td>0.000000</td>\n",
       "      <td>Household</td>\n",
       "      <td>53.8614</td>\n",
       "      <td>OUT013</td>\n",
       "      <td>1987</td>\n",
       "      <td>High</td>\n",
       "      <td>Tier 3</td>\n",
       "      <td>Supermarket Type1</td>\n",
       "      <td>994.7052</td>\n",
       "    </tr>\n",
       "  </tbody>\n",
       "</table>\n",
       "</div>"
      ],
      "text/plain": [
       "  Item_Identifier  Item_Weight Item_Fat_Content  Item_Visibility  \\\n",
       "0           FDA15         9.30          Low Fat         0.016047   \n",
       "1           DRC01         5.92          Regular         0.019278   \n",
       "2           FDN15        17.50          Low Fat         0.016760   \n",
       "3           FDX07        19.20          Regular         0.000000   \n",
       "4           NCD19         8.93          Low Fat         0.000000   \n",
       "\n",
       "               Item_Type  Item_MRP Outlet_Identifier  \\\n",
       "0                  Dairy  249.8092            OUT049   \n",
       "1            Soft Drinks   48.2692            OUT018   \n",
       "2                   Meat  141.6180            OUT049   \n",
       "3  Fruits and Vegetables  182.0950            OUT010   \n",
       "4              Household   53.8614            OUT013   \n",
       "\n",
       "   Outlet_Establishment_Year Outlet_Size Outlet_Location_Type  \\\n",
       "0                       1999      Medium               Tier 1   \n",
       "1                       2009      Medium               Tier 3   \n",
       "2                       1999      Medium               Tier 1   \n",
       "3                       1998         NaN               Tier 3   \n",
       "4                       1987        High               Tier 3   \n",
       "\n",
       "         Outlet_Type  Item_Outlet_Sales  \n",
       "0  Supermarket Type1          3735.1380  \n",
       "1  Supermarket Type2           443.4228  \n",
       "2  Supermarket Type1          2097.2700  \n",
       "3      Grocery Store           732.3800  \n",
       "4  Supermarket Type1           994.7052  "
      ]
     },
     "execution_count": 2,
     "metadata": {},
     "output_type": "execute_result"
    }
   ],
   "source": [
    "df = pd.read_csv('BigmartSales.csv')\n",
    "df.head()"
   ]
  },
  {
   "cell_type": "markdown",
   "id": "tcL8ERkxP0Fn",
   "metadata": {
    "id": "tcL8ERkxP0Fn"
   },
   "source": [
    "**Drop the \"Item_Identifier\" and \"Outlet_Identifier\" columns**"
   ]
  },
  {
   "cell_type": "code",
   "execution_count": 3,
   "id": "4ad74f64",
   "metadata": {
    "id": "4ad74f64"
   },
   "outputs": [],
   "source": [
    "df.drop(['Item_Identifier','Outlet_Identifier'],axis=1,inplace = True)"
   ]
  },
  {
   "cell_type": "markdown",
   "id": "CssoGZYwP9EA",
   "metadata": {
    "id": "CssoGZYwP9EA"
   },
   "source": [
    "**Extract the target labels**"
   ]
  },
  {
   "cell_type": "code",
   "execution_count": 4,
   "id": "3a8c1447",
   "metadata": {
    "id": "3a8c1447"
   },
   "outputs": [],
   "source": [
    "Target_label =df['Item_Outlet_Sales']"
   ]
  },
  {
   "cell_type": "markdown",
   "id": "J-NIsSLIQEJg",
   "metadata": {
    "id": "J-NIsSLIQEJg"
   },
   "source": [
    "**Replace the field \"Item_Fat_Content\" with numerical value**"
   ]
  },
  {
   "cell_type": "code",
   "execution_count": 5,
   "id": "2357e3d1",
   "metadata": {
    "id": "2357e3d1",
    "outputId": "08546d8f-4d30-4fd7-aa4c-13dcb4211179"
   },
   "outputs": [],
   "source": [
    "df['Item_Fat_Content'].replace(['Low Fat','Regular','LF','reg','low fat'],\n",
    "                        [0, 1,0,1,0], inplace=True)"
   ]
  },
  {
   "cell_type": "code",
   "execution_count": 6,
   "id": "9840a835",
   "metadata": {},
   "outputs": [
    {
     "data": {
      "text/html": [
       "<div>\n",
       "<style scoped>\n",
       "    .dataframe tbody tr th:only-of-type {\n",
       "        vertical-align: middle;\n",
       "    }\n",
       "\n",
       "    .dataframe tbody tr th {\n",
       "        vertical-align: top;\n",
       "    }\n",
       "\n",
       "    .dataframe thead th {\n",
       "        text-align: right;\n",
       "    }\n",
       "</style>\n",
       "<table border=\"1\" class=\"dataframe\">\n",
       "  <thead>\n",
       "    <tr style=\"text-align: right;\">\n",
       "      <th></th>\n",
       "      <th>Item_Weight</th>\n",
       "      <th>Item_Fat_Content</th>\n",
       "      <th>Item_Visibility</th>\n",
       "      <th>Item_Type</th>\n",
       "      <th>Item_MRP</th>\n",
       "      <th>Outlet_Establishment_Year</th>\n",
       "      <th>Outlet_Size</th>\n",
       "      <th>Outlet_Location_Type</th>\n",
       "      <th>Outlet_Type</th>\n",
       "      <th>Item_Outlet_Sales</th>\n",
       "    </tr>\n",
       "  </thead>\n",
       "  <tbody>\n",
       "    <tr>\n",
       "      <th>0</th>\n",
       "      <td>9.30</td>\n",
       "      <td>0</td>\n",
       "      <td>0.016047</td>\n",
       "      <td>Dairy</td>\n",
       "      <td>249.8092</td>\n",
       "      <td>1999</td>\n",
       "      <td>Medium</td>\n",
       "      <td>Tier 1</td>\n",
       "      <td>Supermarket Type1</td>\n",
       "      <td>3735.1380</td>\n",
       "    </tr>\n",
       "    <tr>\n",
       "      <th>1</th>\n",
       "      <td>5.92</td>\n",
       "      <td>1</td>\n",
       "      <td>0.019278</td>\n",
       "      <td>Soft Drinks</td>\n",
       "      <td>48.2692</td>\n",
       "      <td>2009</td>\n",
       "      <td>Medium</td>\n",
       "      <td>Tier 3</td>\n",
       "      <td>Supermarket Type2</td>\n",
       "      <td>443.4228</td>\n",
       "    </tr>\n",
       "    <tr>\n",
       "      <th>2</th>\n",
       "      <td>17.50</td>\n",
       "      <td>0</td>\n",
       "      <td>0.016760</td>\n",
       "      <td>Meat</td>\n",
       "      <td>141.6180</td>\n",
       "      <td>1999</td>\n",
       "      <td>Medium</td>\n",
       "      <td>Tier 1</td>\n",
       "      <td>Supermarket Type1</td>\n",
       "      <td>2097.2700</td>\n",
       "    </tr>\n",
       "    <tr>\n",
       "      <th>3</th>\n",
       "      <td>19.20</td>\n",
       "      <td>1</td>\n",
       "      <td>0.000000</td>\n",
       "      <td>Fruits and Vegetables</td>\n",
       "      <td>182.0950</td>\n",
       "      <td>1998</td>\n",
       "      <td>NaN</td>\n",
       "      <td>Tier 3</td>\n",
       "      <td>Grocery Store</td>\n",
       "      <td>732.3800</td>\n",
       "    </tr>\n",
       "    <tr>\n",
       "      <th>4</th>\n",
       "      <td>8.93</td>\n",
       "      <td>0</td>\n",
       "      <td>0.000000</td>\n",
       "      <td>Household</td>\n",
       "      <td>53.8614</td>\n",
       "      <td>1987</td>\n",
       "      <td>High</td>\n",
       "      <td>Tier 3</td>\n",
       "      <td>Supermarket Type1</td>\n",
       "      <td>994.7052</td>\n",
       "    </tr>\n",
       "  </tbody>\n",
       "</table>\n",
       "</div>"
      ],
      "text/plain": [
       "   Item_Weight  Item_Fat_Content  Item_Visibility              Item_Type  \\\n",
       "0         9.30                 0         0.016047                  Dairy   \n",
       "1         5.92                 1         0.019278            Soft Drinks   \n",
       "2        17.50                 0         0.016760                   Meat   \n",
       "3        19.20                 1         0.000000  Fruits and Vegetables   \n",
       "4         8.93                 0         0.000000              Household   \n",
       "\n",
       "   Item_MRP  Outlet_Establishment_Year Outlet_Size Outlet_Location_Type  \\\n",
       "0  249.8092                       1999      Medium               Tier 1   \n",
       "1   48.2692                       2009      Medium               Tier 3   \n",
       "2  141.6180                       1999      Medium               Tier 1   \n",
       "3  182.0950                       1998         NaN               Tier 3   \n",
       "4   53.8614                       1987        High               Tier 3   \n",
       "\n",
       "         Outlet_Type  Item_Outlet_Sales  \n",
       "0  Supermarket Type1          3735.1380  \n",
       "1  Supermarket Type2           443.4228  \n",
       "2  Supermarket Type1          2097.2700  \n",
       "3      Grocery Store           732.3800  \n",
       "4  Supermarket Type1           994.7052  "
      ]
     },
     "execution_count": 6,
     "metadata": {},
     "output_type": "execute_result"
    }
   ],
   "source": [
    "df.head()"
   ]
  },
  {
   "cell_type": "markdown",
   "id": "cyIKY0cAQOZK",
   "metadata": {
    "id": "cyIKY0cAQOZK"
   },
   "source": [
    "**Perform ordinal encoding of the \"Item_Type\", \"Outlet_Type\", \"Outlet_Location_Type\" and \"Outlet_Type\" field**"
   ]
  },
  {
   "cell_type": "code",
   "execution_count": 7,
   "id": "tMucAcOjVmCA",
   "metadata": {
    "id": "tMucAcOjVmCA"
   },
   "outputs": [],
   "source": [
    "oe = OrdinalEncoder()"
   ]
  },
  {
   "cell_type": "code",
   "execution_count": 8,
   "id": "1cfa6e45",
   "metadata": {},
   "outputs": [],
   "source": [
    "col_encode = ['Item_Type', 'Outlet_Type', 'Outlet_Location_Type']"
   ]
  },
  {
   "cell_type": "code",
   "execution_count": 9,
   "id": "8191d97a",
   "metadata": {},
   "outputs": [],
   "source": [
    "df[col_encode] = oe.fit_transform(df[col_encode])"
   ]
  },
  {
   "cell_type": "code",
   "execution_count": 10,
   "id": "01d122ed",
   "metadata": {},
   "outputs": [
    {
     "data": {
      "text/html": [
       "<div>\n",
       "<style scoped>\n",
       "    .dataframe tbody tr th:only-of-type {\n",
       "        vertical-align: middle;\n",
       "    }\n",
       "\n",
       "    .dataframe tbody tr th {\n",
       "        vertical-align: top;\n",
       "    }\n",
       "\n",
       "    .dataframe thead th {\n",
       "        text-align: right;\n",
       "    }\n",
       "</style>\n",
       "<table border=\"1\" class=\"dataframe\">\n",
       "  <thead>\n",
       "    <tr style=\"text-align: right;\">\n",
       "      <th></th>\n",
       "      <th>Item_Type</th>\n",
       "      <th>Outlet_Type</th>\n",
       "      <th>Outlet_Location_Type</th>\n",
       "    </tr>\n",
       "  </thead>\n",
       "  <tbody>\n",
       "    <tr>\n",
       "      <th>0</th>\n",
       "      <td>4.0</td>\n",
       "      <td>1.0</td>\n",
       "      <td>0.0</td>\n",
       "    </tr>\n",
       "    <tr>\n",
       "      <th>1</th>\n",
       "      <td>14.0</td>\n",
       "      <td>2.0</td>\n",
       "      <td>2.0</td>\n",
       "    </tr>\n",
       "    <tr>\n",
       "      <th>2</th>\n",
       "      <td>10.0</td>\n",
       "      <td>1.0</td>\n",
       "      <td>0.0</td>\n",
       "    </tr>\n",
       "    <tr>\n",
       "      <th>3</th>\n",
       "      <td>6.0</td>\n",
       "      <td>0.0</td>\n",
       "      <td>2.0</td>\n",
       "    </tr>\n",
       "    <tr>\n",
       "      <th>4</th>\n",
       "      <td>9.0</td>\n",
       "      <td>1.0</td>\n",
       "      <td>2.0</td>\n",
       "    </tr>\n",
       "    <tr>\n",
       "      <th>...</th>\n",
       "      <td>...</td>\n",
       "      <td>...</td>\n",
       "      <td>...</td>\n",
       "    </tr>\n",
       "    <tr>\n",
       "      <th>8518</th>\n",
       "      <td>13.0</td>\n",
       "      <td>1.0</td>\n",
       "      <td>2.0</td>\n",
       "    </tr>\n",
       "    <tr>\n",
       "      <th>8519</th>\n",
       "      <td>0.0</td>\n",
       "      <td>1.0</td>\n",
       "      <td>1.0</td>\n",
       "    </tr>\n",
       "    <tr>\n",
       "      <th>8520</th>\n",
       "      <td>8.0</td>\n",
       "      <td>1.0</td>\n",
       "      <td>1.0</td>\n",
       "    </tr>\n",
       "    <tr>\n",
       "      <th>8521</th>\n",
       "      <td>13.0</td>\n",
       "      <td>2.0</td>\n",
       "      <td>2.0</td>\n",
       "    </tr>\n",
       "    <tr>\n",
       "      <th>8522</th>\n",
       "      <td>14.0</td>\n",
       "      <td>1.0</td>\n",
       "      <td>0.0</td>\n",
       "    </tr>\n",
       "  </tbody>\n",
       "</table>\n",
       "<p>8523 rows × 3 columns</p>\n",
       "</div>"
      ],
      "text/plain": [
       "      Item_Type  Outlet_Type  Outlet_Location_Type\n",
       "0           4.0          1.0                   0.0\n",
       "1          14.0          2.0                   2.0\n",
       "2          10.0          1.0                   0.0\n",
       "3           6.0          0.0                   2.0\n",
       "4           9.0          1.0                   2.0\n",
       "...         ...          ...                   ...\n",
       "8518       13.0          1.0                   2.0\n",
       "8519        0.0          1.0                   1.0\n",
       "8520        8.0          1.0                   1.0\n",
       "8521       13.0          2.0                   2.0\n",
       "8522       14.0          1.0                   0.0\n",
       "\n",
       "[8523 rows x 3 columns]"
      ]
     },
     "execution_count": 10,
     "metadata": {},
     "output_type": "execute_result"
    }
   ],
   "source": [
    "df[col_encode]"
   ]
  },
  {
   "cell_type": "markdown",
   "id": "x-B8rw1fRjHJ",
   "metadata": {
    "id": "x-B8rw1fRjHJ"
   },
   "source": [
    "**Imputation of \"Outlet_Size\" field with mode value**"
   ]
  },
  {
   "cell_type": "code",
   "execution_count": 11,
   "id": "p9xo7tSTVwsx",
   "metadata": {
    "id": "p9xo7tSTVwsx"
   },
   "outputs": [
    {
     "data": {
      "text/plain": [
       "2410"
      ]
     },
     "execution_count": 11,
     "metadata": {},
     "output_type": "execute_result"
    }
   ],
   "source": [
    "df['Outlet_Size'].isnull().sum()"
   ]
  },
  {
   "cell_type": "code",
   "execution_count": 12,
   "id": "b392c4b7",
   "metadata": {},
   "outputs": [],
   "source": [
    "df['Outlet_Size'].fillna(df['Outlet_Size'].mode()[0],inplace=True)"
   ]
  },
  {
   "cell_type": "code",
   "execution_count": 13,
   "id": "e28c6fe2",
   "metadata": {},
   "outputs": [
    {
     "data": {
      "text/plain": [
       "0"
      ]
     },
     "execution_count": 13,
     "metadata": {},
     "output_type": "execute_result"
    }
   ],
   "source": [
    "df['Outlet_Size'].isnull().sum()"
   ]
  },
  {
   "cell_type": "markdown",
   "id": "4Onuj6i6Rhkg",
   "metadata": {
    "id": "4Onuj6i6Rhkg"
   },
   "source": [
    "**Check for null values**"
   ]
  },
  {
   "cell_type": "code",
   "execution_count": 14,
   "id": "2poAyoTZVxMo",
   "metadata": {
    "id": "2poAyoTZVxMo"
   },
   "outputs": [
    {
     "data": {
      "text/plain": [
       "Item_Weight                  1463\n",
       "Item_Fat_Content                0\n",
       "Item_Visibility                 0\n",
       "Item_Type                       0\n",
       "Item_MRP                        0\n",
       "Outlet_Establishment_Year       0\n",
       "Outlet_Size                     0\n",
       "Outlet_Location_Type            0\n",
       "Outlet_Type                     0\n",
       "Item_Outlet_Sales               0\n",
       "dtype: int64"
      ]
     },
     "execution_count": 14,
     "metadata": {},
     "output_type": "execute_result"
    }
   ],
   "source": [
    "df.isnull().sum()"
   ]
  },
  {
   "cell_type": "markdown",
   "id": "Ba_NQSTYRyEQ",
   "metadata": {
    "id": "Ba_NQSTYRyEQ"
   },
   "source": [
    "**Imputation of \"Item_Weight\" field with mode value**"
   ]
  },
  {
   "cell_type": "code",
   "execution_count": 15,
   "id": "YpZFVBF9Vxtf",
   "metadata": {
    "id": "YpZFVBF9Vxtf"
   },
   "outputs": [],
   "source": [
    "df['Item_Weight'].fillna(df['Item_Weight'].mode()[0],inplace=True)"
   ]
  },
  {
   "cell_type": "code",
   "execution_count": 16,
   "id": "af96e22e",
   "metadata": {},
   "outputs": [
    {
     "data": {
      "text/plain": [
       "Item_Weight                  0\n",
       "Item_Fat_Content             0\n",
       "Item_Visibility              0\n",
       "Item_Type                    0\n",
       "Item_MRP                     0\n",
       "Outlet_Establishment_Year    0\n",
       "Outlet_Size                  0\n",
       "Outlet_Location_Type         0\n",
       "Outlet_Type                  0\n",
       "Item_Outlet_Sales            0\n",
       "dtype: int64"
      ]
     },
     "execution_count": 16,
     "metadata": {},
     "output_type": "execute_result"
    }
   ],
   "source": [
    "df.isnull().sum()"
   ]
  },
  {
   "cell_type": "markdown",
   "id": "J2Q4a-PaR7KB",
   "metadata": {
    "id": "J2Q4a-PaR7KB"
   },
   "source": [
    "**Display all field in the dataset using boxplot**"
   ]
  },
  {
   "cell_type": "code",
   "execution_count": 17,
   "id": "zWaUseKZVyYR",
   "metadata": {
    "id": "zWaUseKZVyYR"
   },
   "outputs": [
    {
     "data": {
      "image/png": "[encoded data removed]",
      "text/plain": [
       "<Figure size 2000x2000 with 1 Axes>"
      ]
     },
     "metadata": {},
     "output_type": "display_data"
    }
   ],
   "source": [
    "plt.figure(figsize=(20,20))\n",
    "sns.boxplot(data=df)\n",
    "plt.show()"
   ]
  },
  {
   "cell_type": "markdown",
   "id": "YHknhULISQ6T",
   "metadata": {
    "id": "YHknhULISQ6T"
   },
   "source": [
    "**Split the dataset into train and test(20%), apply Linear Regression and calculate RMSE value**"
   ]
  },
  {
   "cell_type": "code",
   "execution_count": 18,
   "id": "a4NmXmnXVy5H",
   "metadata": {
    "id": "a4NmXmnXVy5H"
   },
   "outputs": [
    {
     "data": {
      "text/plain": [
       "1    5203\n",
       "0    2388\n",
       "2     932\n",
       "Name: Outlet_Size, dtype: int64"
      ]
     },
     "execution_count": 18,
     "metadata": {},
     "output_type": "execute_result"
    }
   ],
   "source": [
    "df['Outlet_Size'].replace(['Small','Medium','High'],[0,1,2],inplace=True)\n",
    "df['Outlet_Size'].value_counts()"
   ]
  },
  {
   "cell_type": "code",
   "execution_count": 19,
   "id": "3b5c5b72",
   "metadata": {},
   "outputs": [],
   "source": [
    "def scaling(data, scaler_type=\"\", scale_col=[]):\n",
    "    scaler = scaler_type()\n",
    "    df[scale_col] = scaler.fit_transform(df[scale_col])        \n",
    "    return df"
   ]
  },
  {
   "cell_type": "code",
   "execution_count": 20,
   "id": "61081b33",
   "metadata": {},
   "outputs": [],
   "source": [
    "def train_test(df, test_size=0.2, col=\"\"):\n",
    "    \n",
    "    x = df.drop(col,axis=1)\n",
    "    y =df[col]\n",
    "    x_train, x_test, y_train, y_test = train_test_split(x, y, test_size=test_size, random_state=42)    \n",
    "    return x_train, x_test, y_train, y_test"
   ]
  },
  {
   "cell_type": "code",
   "execution_count": 21,
   "id": "5c906d0d",
   "metadata": {},
   "outputs": [],
   "source": [
    "def lin_model_rmse(x_train, x_test, y_train, y_test):\n",
    "    lr = LinearRegression()\n",
    "    lr.fit(x_train, y_train)\n",
    "    y_pred = lr.predict(x_test)\n",
    "    rmse = np.sqrt(metrics.mean_squared_error(y_test, y_pred))\n",
    "    return rmse"
   ]
  },
  {
   "cell_type": "markdown",
   "id": "uqXooCy0Sw9B",
   "metadata": {
    "id": "uqXooCy0Sw9B"
   },
   "source": [
    "**Apply StandardScaller and split the dataset into train and test(20%)**"
   ]
  },
  {
   "cell_type": "code",
   "execution_count": 22,
   "id": "LcyKKccGVzaY",
   "metadata": {
    "id": "LcyKKccGVzaY"
   },
   "outputs": [],
   "source": [
    "scaling_columns = [\"Item_Weight\",\"Item_Visibility\",\"Item_MRP\",\"Item_Outlet_Sales\"]"
   ]
  },
  {
   "cell_type": "code",
   "execution_count": 23,
   "id": "6a592558",
   "metadata": {},
   "outputs": [],
   "source": [
    "std_scaled_data = scaling(df.copy(),StandardScaler,scale_col=scaling_columns)"
   ]
  },
  {
   "cell_type": "code",
   "execution_count": 24,
   "id": "fed0bd56",
   "metadata": {},
   "outputs": [],
   "source": [
    "x_train, x_test, y_train, y_test = train_test(df=std_scaled_data, test_size=0.2,col=\"Item_Outlet_Sales\")"
   ]
  },
  {
   "cell_type": "markdown",
   "id": "dEygHE0mS687",
   "metadata": {
    "id": "dEygHE0mS687"
   },
   "source": [
    "**Display all field in the dataset using boxplot**"
   ]
  },
  {
   "cell_type": "code",
   "execution_count": 25,
   "id": "Mf2AdzWWVz2S",
   "metadata": {
    "id": "Mf2AdzWWVz2S"
   },
   "outputs": [
    {
     "data": {
      "image/png": "[encoded data removed]",
      "text/plain": [
       "<Figure size 1500x1000 with 1 Axes>"
      ]
     },
     "metadata": {},
     "output_type": "display_data"
    }
   ],
   "source": [
    "plt.figure(figsize=(15,10))\n",
    "sns.boxplot(data=std_scaled_data)\n",
    "plt.show()"
   ]
  },
  {
   "cell_type": "markdown",
   "id": "REkskrWlTRZ0",
   "metadata": {
    "id": "REkskrWlTRZ0"
   },
   "source": [
    "**Apply Linear Regression and calculate RMSE value**"
   ]
  },
  {
   "cell_type": "code",
   "execution_count": 26,
   "id": "UCXEWz1EV0Yr",
   "metadata": {
    "id": "UCXEWz1EV0Yr"
   },
   "outputs": [
    {
     "name": "stdout",
     "output_type": "stream",
     "text": [
      "Standard Scaling - Root Mean Squared Error (RMSE) : 0.6663781012572418\n"
     ]
    }
   ],
   "source": [
    "rmse_std = lin_model_rmse(x_train, x_test, y_train, y_test)\n",
    "print(\"Standard Scaling - Root Mean Squared Error (RMSE) :\", rmse_std)"
   ]
  },
  {
   "cell_type": "markdown",
   "id": "yv7HlvPETZZl",
   "metadata": {
    "id": "yv7HlvPETZZl"
   },
   "source": [
    "**Apply MinMaxScaler, split the dataset into train and test(20%), apply LinearRegression and calculate RMSE**"
   ]
  },
  {
   "cell_type": "code",
   "execution_count": 27,
   "id": "uBIpOrM5V083",
   "metadata": {
    "id": "uBIpOrM5V083"
   },
   "outputs": [],
   "source": [
    "minmax_scaled_data = scaling(df.copy(),MinMaxScaler,scale_col=scaling_columns)"
   ]
  },
  {
   "cell_type": "code",
   "execution_count": 28,
   "id": "9b8271c6",
   "metadata": {},
   "outputs": [],
   "source": [
    "x_train, x_test, y_train, y_test = train_test(df=minmax_scaled_data, test_size=0.2,col=\"Item_Outlet_Sales\")"
   ]
  },
  {
   "cell_type": "code",
   "execution_count": 29,
   "id": "9f5a55ba",
   "metadata": {},
   "outputs": [
    {
     "name": "stdout",
     "output_type": "stream",
     "text": [
      "Min Max Scaling - Root Mean Squared Error (RMSE) : 0.08711012623819253\n"
     ]
    }
   ],
   "source": [
    "rmse_min_max = lin_model_rmse(x_train, x_test, y_train, y_test)\n",
    "print(\"Min Max Scaling - Root Mean Squared Error (RMSE) :\", rmse_min_max)"
   ]
  },
  {
   "cell_type": "markdown",
   "id": "RsmaZrfJTf1J",
   "metadata": {
    "id": "RsmaZrfJTf1J"
   },
   "source": [
    "**Apply RobustScaler,Split the dataset into train and test(20%), apply LinearRegression and calculate RMSE**"
   ]
  },
  {
   "cell_type": "code",
   "execution_count": 30,
   "id": "b5d9XLQ9V1if",
   "metadata": {
    "id": "b5d9XLQ9V1if"
   },
   "outputs": [],
   "source": [
    "robust_scaled_data = scaling(df.copy(),RobustScaler,scale_col=scaling_columns)"
   ]
  },
  {
   "cell_type": "code",
   "execution_count": 31,
   "id": "1e14bfa7",
   "metadata": {},
   "outputs": [],
   "source": [
    "x_train, x_test, y_train, y_test = train_test(df=robust_scaled_data,test_size=0.2,col=\"Item_Outlet_Sales\")"
   ]
  },
  {
   "cell_type": "code",
   "execution_count": 32,
   "id": "52a90765",
   "metadata": {},
   "outputs": [
    {
     "name": "stdout",
     "output_type": "stream",
     "text": [
      "Robust Scaling - Root Mean Squared Error (RMSE) : 0.5015803627095455\n"
     ]
    }
   ],
   "source": [
    "rmse_robust = lin_model_rmse(x_train, x_test, y_train, y_test)\n",
    "print(\"Robust Scaling - Root Mean Squared Error (RMSE) :\", rmse_robust)"
   ]
  },
  {
   "cell_type": "markdown",
   "id": "TqHyxOlsTmwQ",
   "metadata": {
    "id": "TqHyxOlsTmwQ"
   },
   "source": [
    "**Apply MaxAbsScaler, split the dataset into train and test(20%), apply LinearRegression and calculate RMSE**"
   ]
  },
  {
   "cell_type": "code",
   "execution_count": 33,
   "id": "gHhPvv_JV18V",
   "metadata": {
    "id": "gHhPvv_JV18V"
   },
   "outputs": [],
   "source": [
    "max_abs_scaled_data = scaling(df.copy(),MaxAbsScaler,scale_col=scaling_columns)"
   ]
  },
  {
   "cell_type": "code",
   "execution_count": 34,
   "id": "26964f2b",
   "metadata": {},
   "outputs": [],
   "source": [
    "x_train, x_test, y_train, y_test = train_test(df=max_abs_scaled_data,test_size=0.2,col=\"Item_Outlet_Sales\")"
   ]
  },
  {
   "cell_type": "code",
   "execution_count": 35,
   "id": "06b5e364",
   "metadata": {},
   "outputs": [
    {
     "name": "stdout",
     "output_type": "stream",
     "text": [
      "Robust Scaling - Root Mean Squared Error (RMSE) : 0.10069460144012751\n"
     ]
    }
   ],
   "source": [
    "rmse_abs= lin_model_rmse(x_train, x_test, y_train, y_test)\n",
    "print(\"Robust Scaling - Root Mean Squared Error (RMSE) :\", rmse_abs)"
   ]
  },
  {
   "cell_type": "markdown",
   "id": "VwKDpRyXTqVt",
   "metadata": {
    "id": "VwKDpRyXTqVt"
   },
   "source": [
    "**Apply Normalizer, split the dataset into train and test(20%), apply LinearRegression and calculate RMSE**"
   ]
  },
  {
   "cell_type": "code",
   "execution_count": 37,
   "id": "KMmGXImyV2eW",
   "metadata": {
    "id": "KMmGXImyV2eW"
   },
   "outputs": [],
   "source": [
    "normalizer_scaled_data = scaling(df.copy(),Normalizer,scale_col=scaling_columns)"
   ]
  },
  {
   "cell_type": "code",
   "execution_count": 38,
   "id": "c04a3747",
   "metadata": {},
   "outputs": [],
   "source": [
    "x_train, x_test, y_train, y_test = train_test(df=normalizer_scaled_data,test_size=0.2,col=\"Item_Outlet_Sales\")"
   ]
  },
  {
   "cell_type": "code",
   "execution_count": 39,
   "id": "f018b91c",
   "metadata": {},
   "outputs": [
    {
     "name": "stdout",
     "output_type": "stream",
     "text": [
      "Normalizer - Root Mean Squared Error (RMSE) : 0.19758523443470924\n"
     ]
    }
   ],
   "source": [
    "rmse_norm= lin_model_rmse(x_train, x_test, y_train, y_test)\n",
    "print(\"Normalizer - Root Mean Squared Error (RMSE) :\", rmse_norm)"
   ]
  },
  {
   "cell_type": "markdown",
   "id": "aXlMurapT-jK",
   "metadata": {
    "id": "aXlMurapT-jK"
   },
   "source": [
    "**Define a function valuelabel to place the legend of each bar in the histogram**"
   ]
  },
  {
   "cell_type": "code",
   "execution_count": 40,
   "id": "8s1VmLS2V3Bv",
   "metadata": {
    "id": "8s1VmLS2V3Bv"
   },
   "outputs": [],
   "source": [
    "def valuelabel(rect, ax):\n",
    "    \"\"\"\n",
    "    Attach a text label above each bar in a histogram displaying its height.\n",
    "    \"\"\"\n",
    "    for r in rect:\n",
    "        height = r.get_height()\n",
    "        ax.annotate(f'{height}',\n",
    "                    xy=(r.get_x() + r.get_width() / 2, height),\n",
    "                    xytext=(0, 3),  \n",
    "                    textcoords=\"offset points\",\n",
    "                    ha='center', va='bottom')"
   ]
  },
  {
   "cell_type": "markdown",
   "id": "HaErXDOPURMM",
   "metadata": {
    "id": "HaErXDOPURMM"
   },
   "source": [
    "**Plot a histogram to display the RMSE value of each scaler**"
   ]
  },
  {
   "cell_type": "code",
   "execution_count": 43,
   "id": "0e789792",
   "metadata": {
    "id": "0e789792"
   },
   "outputs": [],
   "source": [
    "hist = [rmse_std,rmse_min_max,rmse_robust,rmse_abs,rmse_norm]"
   ]
  },
  {
   "cell_type": "code",
   "execution_count": 44,
   "id": "915a5668",
   "metadata": {},
   "outputs": [],
   "source": [
    "hist1 = list(map(lambda x:round(x,3),hist))"
   ]
  },
  {
   "cell_type": "code",
   "execution_count": 45,
   "id": "2ed56073",
   "metadata": {},
   "outputs": [],
   "source": [
    "Scaling_names = [\"Standard-Scaler\",\"MinMax-Scaler\",\"Robust-Scaler\",\"MaxAbs-Scaler\",\"Normalizer-Scaler\"]"
   ]
  },
  {
   "cell_type": "code",
   "execution_count": 54,
   "id": "c8bbb697",
   "metadata": {},
   "outputs": [
    {
     "data": {
      "image/png": "[encoded data removed]",
      "text/plain": [
       "<Figure size 1000x600 with 1 Axes>"
      ]
     },
     "metadata": {},
     "output_type": "display_data"
    }
   ],
   "source": [
    "fig, ax = plt.subplots(figsize=(10, 6))\n",
    "bars = ax.bar(Scaling_names, hist,color=\"Blue\")\n",
    "valuelabel(bars, ax)\n",
    "plt.show()\n"
   ]
  }
 ],
 "metadata": {
  "colab": {
   "provenance": []
  },
  "kernelspec": {
   "display_name": "Python 3 (ipykernel)",
   "language": "python",
   "name": "python3"
  },
  "language_info": {
   "codemirror_mode": {
    "name": "ipython",
    "version": 3
   },
   "file_extension": ".py",
   "mimetype": "text/x-python",
   "name": "python",
   "nbconvert_exporter": "python",
   "pygments_lexer": "ipython3",
   "version": "3.9.13"
  }
 },
 "nbformat": 4,
 "nbformat_minor": 5
}
